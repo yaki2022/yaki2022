{
  "nbformat": 4,
  "nbformat_minor": 0,
  "metadata": {
    "colab": {
      "name": "Matrices G-46.ipynb",
      "provenance": [],
      "collapsed_sections": [],
      "include_colab_link": true
    },
    "kernelspec": {
      "name": "python3",
      "display_name": "Python 3"
    },
    "language_info": {
      "name": "python"
    }
  },
  "cells": [
    {
      "cell_type": "markdown",
      "metadata": {
        "id": "view-in-github",
        "colab_type": "text"
      },
      "source": [
        "<a href=\"https://colab.research.google.com/github/yaki2022/yaki2022/blob/main/Matrices_G_46.ipynb\" target=\"_parent\"><img src=\"https://colab.research.google.com/assets/colab-badge.svg\" alt=\"Open In Colab\"/></a>"
      ]
    },
    {
      "cell_type": "code",
      "source": [
        "# Creacion de matrices\n",
        "\n",
        "matrix=[[23,7,42],[2,3,4],[87,45,21]]\n",
        "print(matrix)\n",
        "\n",
        "x=matrix[1][2]\n",
        "\n",
        "\n",
        "print(x)\n",
        "\n",
        "\n"
      ],
      "metadata": {
        "colab": {
          "base_uri": "https://localhost:8080/"
        },
        "id": "jO2t3CkwQweA",
        "outputId": "1b0a39ef-b7bf-4b14-a138-5119af2313e3"
      },
      "execution_count": null,
      "outputs": [
        {
          "output_type": "stream",
          "name": "stdout",
          "text": [
            "[[23, 7, 42], [90, [2, 3, 4], 32], [87, 45, 21]]\n",
            "32\n"
          ]
        }
      ]
    },
    {
      "cell_type": "markdown",
      "source": [
        "\n",
        "##Crear unua matriz de 7x7 con valores libres, y presentar extraer en una lista las siguientes posiciones en el siguiente orden\n",
        "(4,0)-(6,3)-(5,2)-(0,3)-(0,0)-(1,0)-(3,2)\n",
        "\n",
        "\n",
        "\n",
        "\n",
        "\n",
        "\n",
        "\n",
        "\n"
      ],
      "metadata": {
        "id": "LFiUwq-cSNJ6"
      }
    },
    {
      "cell_type": "markdown",
      "source": [
        "## Ingreso de matrices por ciclos"
      ],
      "metadata": {
        "id": "22NxtgzhaxUu"
      }
    },
    {
      "cell_type": "code",
      "source": [
        "\n",
        "\n",
        "pos00=int(input(\"ingrese el primer valor: \"))\n",
        "pos01=int(input(\"ingrese el segundo valor: \"))\n",
        "pos10=int(input(\"ingrese el tercer valor: \"))\n",
        "pos11=int(input(\"ingrese el cuarto valor: \"))\n",
        "\n",
        "matris=[[pos00,pos01],[pos10,pos11]]\n",
        "#4print(matris)\n",
        "for i in matris:\n",
        " print(i)\n"
      ],
      "metadata": {
        "colab": {
          "base_uri": "https://localhost:8080/"
        },
        "id": "i_DZAXpxameE",
        "outputId": "52940a09-bc89-4422-8ca0-94cb0f0cb445"
      },
      "execution_count": null,
      "outputs": [
        {
          "output_type": "stream",
          "name": "stdout",
          "text": [
            "ingrese el primer valor: 100\n",
            "ingrese el segundo valor: 200\n",
            "ingrese el tercer valor: 4\n",
            "ingrese el cuarto valor: 5\n",
            "[100, 200]\n",
            "[4, 5]\n"
          ]
        },
        {
          "output_type": "execute_result",
          "data": {
            "text/plain": [
              "2"
            ]
          },
          "metadata": {},
          "execution_count": 6
        }
      ]
    },
    {
      "cell_type": "markdown",
      "source": [
        "# llenado por ciclos"
      ],
      "metadata": {
        "id": "TDaW2mz-cWLR"
      }
    },
    {
      "cell_type": "code",
      "source": [
        "fila1=[0,0,0,0,0,0,0,0]\n",
        "for i in range(8):\n",
        "  fila1[i]=\"hola\"\n",
        "  print(fila1)\n",
        "  "
      ],
      "metadata": {
        "colab": {
          "base_uri": "https://localhost:8080/"
        },
        "id": "5n0t6w8BcZUT",
        "outputId": "5c55dca7-b3ad-44fd-afc3-15d5259a6a9a"
      },
      "execution_count": null,
      "outputs": [
        {
          "output_type": "stream",
          "name": "stdout",
          "text": [
            "['hola', 0, 0, 0, 0, 0, 0, 0]\n",
            "['hola', 'hola', 0, 0, 0, 0, 0, 0]\n",
            "['hola', 'hola', 'hola', 0, 0, 0, 0, 0]\n",
            "['hola', 'hola', 'hola', 'hola', 0, 0, 0, 0]\n",
            "['hola', 'hola', 'hola', 'hola', 'hola', 0, 0, 0]\n",
            "['hola', 'hola', 'hola', 'hola', 'hola', 'hola', 0, 0]\n",
            "['hola', 'hola', 'hola', 'hola', 'hola', 'hola', 'hola', 0]\n",
            "['hola', 'hola', 'hola', 'hola', 'hola', 'hola', 'hola', 'hola']\n"
          ]
        }
      ]
    },
    {
      "cell_type": "markdown",
      "source": [
        "#ciclo for anidado"
      ],
      "metadata": {
        "id": "bkcyk2Ipkhd-"
      }
    },
    {
      "cell_type": "code",
      "source": [
        "matis=[[0,0,0],[0,0,0],[0,0,0]]\n",
        "\n",
        "for i in range(3):\n",
        "   for j in range(3):\n",
        "     matis[j][i]=100\n",
        "#print(matis)\n",
        "\n",
        "for t in matis:\n",
        "  print(t)\n",
        "     \n",
        "\n"
      ],
      "metadata": {
        "colab": {
          "base_uri": "https://localhost:8080/"
        },
        "id": "3gl5SWLIkglF",
        "outputId": "07bd0238-250b-4b42-a724-cb9b19ca6b22"
      },
      "execution_count": null,
      "outputs": [
        {
          "output_type": "stream",
          "name": "stdout",
          "text": [
            "[100, 100, 100]\n",
            "[100, 100, 100]\n",
            "[100, 100, 100]\n"
          ]
        }
      ]
    },
    {
      "cell_type": "markdown",
      "source": [
        "#Comoando par obtener solo una parte de la matriz"
      ],
      "metadata": {
        "id": "4g1GuZeAbbDa"
      }
    },
    {
      "cell_type": "code",
      "source": [
        "matriz=[[3,4,10,23],[90,80,4,4],[23,45,21,1],[13,14,110,213],[910,180,14,14],[232,425,221,12]]\n",
        "\n",
        "print(matriz[4:6]) # corta la matriz desde la fila 1 a la fila 3\n",
        "\n",
        "\n",
        "print(\"_____________________________--\")\n",
        "for i in matriz:\n",
        "  print(i)"
      ],
      "metadata": {
        "colab": {
          "base_uri": "https://localhost:8080/"
        },
        "id": "WWjzPg8rbkQl",
        "outputId": "4ec9e971-6f5e-4823-a919-0bf72d251785"
      },
      "execution_count": null,
      "outputs": [
        {
          "output_type": "stream",
          "name": "stdout",
          "text": [
            "[[910, 180, 14, 14], [232, 425, 221, 12]]\n",
            "_____________________________--\n",
            "[3, 4, 10, 23]\n",
            "[90, 80, 4, 4]\n",
            "[23, 45, 21, 1]\n",
            "[13, 14, 110, 213]\n",
            "[910, 180, 14, 14]\n",
            "[232, 425, 221, 12]\n"
          ]
        }
      ]
    },
    {
      "cell_type": "markdown",
      "source": [
        "#Numpy (crear matrices en ceros 45x45)"
      ],
      "metadata": {
        "id": "VpCpRpYedbpc"
      }
    },
    {
      "cell_type": "code",
      "execution_count": null,
      "metadata": {
        "colab": {
          "base_uri": "https://localhost:8080/"
        },
        "id": "ShKQW0hrNZ1Y",
        "outputId": "f022a269-c328-40b3-ac29-19f0e1d0df4f"
      },
      "outputs": [
        {
          "output_type": "stream",
          "name": "stdout",
          "text": [
            "23\n"
          ]
        }
      ],
      "source": [
        "import numpy\n",
        "import random\n",
        "\n",
        "a = numpy.ones((4,4))\n",
        "\n",
        "#Random 0 aleatorio  genera numeros aleatoreos en un rango \n",
        "x=random.randrange(23,26)\n",
        "print(x)\n",
        "#for i in a :\n",
        " # print(i)\n"
      ]
    },
    {
      "cell_type": "markdown",
      "source": [
        "## JUEGO DEL BUSCAMINAS"
      ],
      "metadata": {
        "id": "-xMDS_toiNlZ"
      }
    },
    {
      "cell_type": "code",
      "source": [
        "import numpy\n",
        "\n",
        "fallo=0\n",
        "puntos=0\n",
        "tablero=numpy.zeros((8,8))\n",
        "\n",
        "\n",
        "for i in range(8):\n",
        "   for j in range(8):\n",
        "     tablero[i][j]=random.randrange(0,2)\n",
        "print(tablero)\n",
        "\n",
        "print(\"***BUSCA MINAS *****\")\n",
        "print(\"Ingrese las coordenadas donde creas que no hay mina\")\n",
        "\n",
        "while fallo!=5 and puntos!=5:\n",
        "  filas=int(input(\"Ingrese la fila:  \"))\n",
        "  columna=int(input(\"Ingrese la columna:  \"))\n",
        "\n",
        "  if tablero[filas][columna]==1:\n",
        "    fallo=fallo+1\n",
        "    print(\"caiste en una mina BOOOOMMMM  :(    \")\n",
        "    print(\"minas encontradas: \",fallo,\"puntos: \",puntos)\n",
        "  else:\n",
        "    puntos=puntos+1\n",
        "    print(\"muy bien casilla sin minas :) \")\n",
        "    print(\"minas encontradas: \",fallo,\"puntos: \",puntos)\n",
        "    \n",
        "\n",
        "  if fallo==3:\n",
        "    print(\"PERDISTE EL JUEGO \")\n",
        "  if puntos==3:\n",
        "    print(\"Felicidades Ganaste el Juego\")\n",
        "\n",
        "print (\"Gracias por jugar\")\n",
        "\n",
        "\n"
      ],
      "metadata": {
        "colab": {
          "base_uri": "https://localhost:8080/"
        },
        "id": "6B8XBM1Hf4HJ",
        "outputId": "093f9945-c8c0-4fbd-9be0-0f6984df9efc"
      },
      "execution_count": null,
      "outputs": [
        {
          "output_type": "stream",
          "name": "stdout",
          "text": [
            "[[1. 0. 1. 1. 1. 0. 1. 1.]\n",
            " [1. 0. 0. 0. 0. 0. 1. 0.]\n",
            " [1. 0. 1. 0. 0. 1. 0. 1.]\n",
            " [1. 0. 1. 0. 1. 1. 0. 1.]\n",
            " [1. 0. 0. 0. 1. 0. 1. 1.]\n",
            " [1. 1. 0. 1. 0. 0. 0. 0.]\n",
            " [0. 0. 0. 0. 1. 1. 1. 0.]\n",
            " [1. 0. 0. 1. 1. 1. 1. 1.]]\n",
            "***BUSCA MINAS *****\n",
            "Ingrese las coordenadas donde creas que no hay mina\n",
            "Ingrese la fila:  2\n",
            "Ingrese la columna:  3\n",
            "muy bien casilla sin minas :) \n",
            "minas encontradas:  0 puntos:  1\n",
            "Ingrese la fila:  4\n",
            "Ingrese la columna:  1\n",
            "muy bien casilla sin minas :) \n",
            "minas encontradas:  0 puntos:  2\n",
            "Ingrese la fila:  0\n",
            "Ingrese la columna:  1\n",
            "muy bien casilla sin minas :) \n",
            "minas encontradas:  0 puntos:  3\n",
            "Felicidades Ganaste el Juego\n",
            "Ingrese la fila:  4\n",
            "Ingrese la columna:  2\n",
            "muy bien casilla sin minas :) \n",
            "minas encontradas:  0 puntos:  4\n",
            "Ingrese la fila:  5\n",
            "Ingrese la columna:  0\n",
            "caiste en una mina BOOOOMMMM  :(    \n",
            "minas encontradas:  1 puntos:  4\n",
            "Ingrese la fila:  2\n",
            "Ingrese la columna:  6\n",
            "muy bien casilla sin minas :) \n",
            "minas encontradas:  1 puntos:  5\n",
            "Gracias por jugar\n"
          ]
        }
      ]
    },
    {
      "cell_type": "markdown",
      "source": [
        ""
      ],
      "metadata": {
        "id": "5mGUZKDuQuQH"
      }
    },
    {
      "cell_type": "code",
      "source": [
        "\n"
      ],
      "metadata": {
        "colab": {
          "base_uri": "https://localhost:8080/"
        },
        "id": "6pqfB_Aqnxdf",
        "outputId": "46d5ef46-5543-49a5-c449-2fe0aa661c5b"
      },
      "execution_count": null,
      "outputs": [
        {
          "output_type": "stream",
          "name": "stdout",
          "text": [
            "1\n",
            "1\n",
            "0\n",
            "[[1, 1, 0], [1, 1, 0], [1, 1, 0]]\n",
            "En que posiscion cres que no haya bomba\n",
            "ingrese la fila: 1\n",
            "ingrese la columnas: 1\n",
            "Caiste :( BOOM  lo siento\n",
            "fallos= 1\n",
            "puntos= 0\n",
            "0\n",
            "0\n",
            "1\n",
            "[[0, 0, 1], [0, 0, 1], [0, 0, 1]]\n",
            "En que posiscion cres que no haya bomba\n",
            "ingrese la fila: 2\n",
            "ingrese la columnas: 1\n",
            "Te salvaste en 2 , 1 no hay bomba\n",
            "fallos= 1\n",
            "puntos= 1\n",
            "0\n",
            "0\n",
            "1\n",
            "[[0, 0, 1], [0, 0, 1], [0, 0, 1]]\n",
            "En que posiscion cres que no haya bomba\n",
            "ingrese la fila: 1\n",
            "ingrese la columnas: 1\n",
            "Te salvaste en 1 , 1 no hay bomba\n",
            "fallos= 1\n",
            "puntos= 2\n",
            "1\n",
            "0\n",
            "1\n",
            "[[1, 0, 1], [1, 0, 1], [1, 0, 1]]\n",
            "En que posiscion cres que no haya bomba\n",
            "ingrese la fila: 1\n",
            "ingrese la columnas: 1\n",
            "Te salvaste en 1 , 1 no hay bomba\n",
            "fallos= 1\n",
            "puntos= 3\n",
            "1\n",
            "0\n",
            "0\n",
            "[[1, 0, 0], [1, 0, 0], [1, 0, 0]]\n",
            "En que posiscion cres que no haya bomba\n",
            "ingrese la fila: 1\n",
            "ingrese la columnas: 2\n",
            "Te salvaste en 1 , 2 no hay bomba\n",
            "fallos= 1\n",
            "puntos= 4\n",
            "0\n",
            "1\n",
            "0\n",
            "[[0, 1, 0], [0, 1, 0], [0, 1, 0]]\n",
            "En que posiscion cres que no haya bomba\n",
            "ingrese la fila: 1\n",
            "ingrese la columnas: 2\n",
            "Te salvaste en 1 , 2 no hay bomba\n",
            "fallos= 1\n",
            "puntos= 5\n",
            "GANASTE EL JUEGO  PUNTOS =5\n"
          ]
        }
      ]
    },
    {
      "cell_type": "code",
      "source": [
        ""
      ],
      "metadata": {
        "id": "S-WLIpg7QsCL"
      },
      "execution_count": null,
      "outputs": []
    },
    {
      "cell_type": "markdown",
      "source": [
        "#Generar una matriz de 4X4"
      ],
      "metadata": {
        "id": "VWjM6Rn6Ux24"
      }
    }
  ]
}