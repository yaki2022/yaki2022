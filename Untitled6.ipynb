{
  "nbformat": 4,
  "nbformat_minor": 0,
  "metadata": {
    "colab": {
      "name": "Untitled6.ipynb",
      "provenance": [],
      "include_colab_link": true
    },
    "kernelspec": {
      "name": "python3",
      "display_name": "Python 3"
    }
  },
  "cells": [
    {
      "cell_type": "markdown",
      "metadata": {
        "id": "view-in-github",
        "colab_type": "text"
      },
      "source": [
        "<a href=\"https://colab.research.google.com/github/yaki2022/yaki2022/blob/main/Untitled6.ipynb\" target=\"_parent\"><img src=\"https://colab.research.google.com/assets/colab-badge.svg\" alt=\"Open In Colab\"/></a>"
      ]
    },
    {
      "cell_type": "code",
      "source": [
        "x1=\"pepito\"\n",
        "x2=\"juan\"\n",
        "x3=\"pedro\"\n",
        "\n",
        "y1=30\n",
        "y2=25\n",
        "y3=20\n",
        "\n",
        "print(\"la edad del primer nombre\",x1,\"es\",y1,\"la edad del segundo nombre\",x2,\"es\",y2,\"y la edad de la tercera nombre\",x3,\"es\",y3)\n",
        "\n",
        "\n",
        "type(x1),(x2),(x3)\n",
        "type(y1),(y2),(y3)\n",
        "\n",
        "print(type(x1),(x2),(x3))\n",
        "print(type(y1),(y2),(y3))"
      ],
      "metadata": {
        "id": "JQNVs988-_Sg",
        "outputId": "93ccde6b-ab26-493f-f6f5-e93f31b22ac1",
        "colab": {
          "base_uri": "https://localhost:8080/"
        }
      },
      "execution_count": 2,
      "outputs": [
        {
          "output_type": "stream",
          "name": "stdout",
          "text": [
            "la edad del primer nombre pepito es 30 la edad del segundo nombre juan es 25 y la edad de la tercera nombre pedro es 20\n",
            "<class 'str'> juan pedro\n",
            "<class 'int'> 25 20\n"
          ]
        }
      ]
    }
  ]
}