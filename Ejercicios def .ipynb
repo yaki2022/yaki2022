{
  "nbformat": 4,
  "nbformat_minor": 0,
  "metadata": {
    "colab": {
      "name": "Untitled17.ipynb",
      "provenance": [],
      "authorship_tag": "ABX9TyMQ1sXpINFkH/moqrpGxaSa",
      "include_colab_link": true
    },
    "kernelspec": {
      "name": "python3",
      "display_name": "Python 3"
    },
    "language_info": {
      "name": "python"
    }
  },
  "cells": [
    {
      "cell_type": "markdown",
      "metadata": {
        "id": "view-in-github",
        "colab_type": "text"
      },
      "source": [
        "<a href=\"https://colab.research.google.com/github/yaki2022/yaki2022/blob/main/Ejercicios%20def%20.ipynb\" target=\"_parent\"><img src=\"https://colab.research.google.com/assets/colab-badge.svg\" alt=\"Open In Colab\"/></a>"
      ]
    },
    {
      "cell_type": "code",
      "source": [
        "##############################\n",
        "def opr_sumar():\n",
        "  print(\"inicia la funcion\")\n",
        "  x=25\n",
        "  y=30\n",
        "  res=x+y\n",
        "  print(res,\"termina la funcion\")\n",
        "\n",
        "###################################\n",
        "\n",
        "print(\"buenos dias\")\n",
        "print(\"llamado de mi primer funcion\")\n",
        "opr_sumar()\n",
        "\n",
        "x=int(input(\"ingrese 1 para volvera sumar\"))\n",
        "if x==1:\n",
        "  opr_sumar()\n",
        "\n",
        "\n",
        "  ########################################\n",
        "\n",
        "def opr_restar():\n",
        "  print(\"inicia la funcion  resta\")\n",
        "  x=15\n",
        "  y=66\n",
        "  res=x-y\n",
        "  print(res,\"termina la funcion resta\")\n",
        " \n",
        "\n",
        "opr_restar()\n",
        "\n",
        "###################################\n",
        "\n",
        "  \n",
        "\n",
        "def opr_multiplicar():\n",
        "  print(\"inicia la funcion multiplicacion\")\n",
        "  x=15\n",
        "  y=3\n",
        "  res=x*y\n",
        "  print(res,\"termina la funcion multiplicacion\")\n",
        " \n",
        "\n",
        "opr_multiplicar()\n"
      ],
      "metadata": {
        "colab": {
          "base_uri": "https://localhost:8080/"
        },
        "id": "qgiCPh3uB5mW",
        "outputId": "434f1f43-ede8-4db4-d02c-f8e78edd561e"
      },
      "execution_count": 25,
      "outputs": [
        {
          "output_type": "stream",
          "name": "stdout",
          "text": [
            "buenos dias\n",
            "llamado de mi primer funcion\n",
            "inicia la funcion\n",
            "55 termina la funcion\n",
            "ingrese 1 para volvera sumar1\n",
            "inicia la funcion\n",
            "55 termina la funcion\n",
            "inicia la funcion  resta\n",
            "-51 termina la funcion resta\n",
            "inicia la funcion multiplicacion\n",
            "45 termina la funcion multiplicacion\n"
          ]
        }
      ]
    }
  ]
}